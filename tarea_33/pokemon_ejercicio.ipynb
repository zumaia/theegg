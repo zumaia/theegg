{
 "cells": [
  {
   "cell_type": "markdown",
   "metadata": {},
   "source": [
    "![](vs.jpeg)"
   ]
  },
  {
   "cell_type": "markdown",
   "metadata": {},
   "source": [
    "### Construir tu primer diagrama de flujo\n",
    "\n",
    "# El juego de Picachu\n",
    "\n",
    "\n",
    "En programación no suele ser una buena práctica empezar a programar la solución antes de pensar bien cuál va a ser la arquitectura del programa. Es importante hacer el plano del software antes de empezar a picar código.  \n",
    "  \n",
    "Si os fijáis bien, los programas que habéis desarrollado hasta ahora no son mas que un cúmulo de bucles que saltan de uno a otro para la resolución de un problema más complejo. Sabiendo esto, es importante dibujar esos bucles en \"lápiz y papel\" para ver clara la problemática y su posterior resolución. Estos dibujos se conocen como diagramas de flujo y se utilizan tanto para planificar el desarrollo de un software como para diseños en otras disciplinas que nada tienen que ver con la informática.  \n",
    "\n",
    "En este caso, tenéis que entender y dibujar el diagrama de flujo del programa de picachu tal y como se explica en el vídeo que adjuntamos y posteriormente codificarlo mediante un lenguaje de programación, es decir, construir el programa tal cual se indica en el diagrama.  \n",
    "  \n",
    "Chulo, ¿verdad?  \n",
    "\n",
    "\n",
    "#HASHTAGS (etiquetas de ayuda para búsqueda de información relevante) #diagrama-de-flujo #bucles #if #for #while #switch-case #array #bases-de-datos \n",
    "\n",
    "LINKS DE INTERÉS  \n",
    "https://www.youtube.com/watch?v=SDv2vOIFIj8   \n",
    "https://www.areatecnologia.com/informatica/ejemplos-de-diagramas-de-flujo.html  \n",
    "\n",
    "DICCIONARIO  \n",
    "\n",
    "diagrama-de-flujo | bucles-en-programación"
   ]
  },
  {
   "cell_type": "markdown",
   "metadata": {},
   "source": [
    "![](FLUJO-COMBATE.gif)"
   ]
  },
  {
   "cell_type": "markdown",
   "metadata": {},
   "source": [
    "PUNTUACIÓN\n",
    "\n",
    "Programación: 4\n",
    "Redes: 1\n",
    "Seguridad: 1\n",
    "Algoritmia: 4"
   ]
  },
  {
   "cell_type": "code",
   "execution_count": 1,
   "metadata": {},
   "outputs": [],
   "source": [
    "class Pokemon:\n",
    "    def __init__(self, nombre, puntos_vida, puntos_ataque):\n",
    "        \"\"\"\n",
    "        Creamos el objeto: nombre, puntos de vida y puntos de ataque\n",
    "        \"\"\"\n",
    "        self.nombre = nombre\n",
    "        self.puntos_vida = puntos_vida\n",
    "        self.puntos_ataque = puntos_ataque\n",
    "\n",
    "    def sufre_ataque(self, danos):\n",
    "        \"\"\"\n",
    "        Función del ataque\n",
    "        \"\"\"\n",
    "        self.puntos_vida = self.puntos_vida - danos\n",
    "\n",
    "    def esta_vivo(self):\n",
    "        \"\"\"\n",
    "        Función que comprueva la vida del pikachu\n",
    "        \"\"\"\n",
    "        # Si es mayor a 0 está vivo\n",
    "        if self.puntos_vida > 0:\n",
    "            return True\n",
    "        # En caso contrario, no lo eá\n",
    "        else:\n",
    "            return False"
   ]
  },
  {
   "cell_type": "code",
   "execution_count": 2,
   "metadata": {},
   "outputs": [],
   "source": [
    "def anunciar_ganador(ganador):\n",
    "    \"\"\"\n",
    "    Función que anuncia el ganador\n",
    "    \"\"\"\n",
    "    print(\"Gana: {}!\".format(ganador.nombre))"
   ]
  },
  {
   "cell_type": "code",
   "execution_count": 3,
   "metadata": {},
   "outputs": [],
   "source": [
    "def lucha(pok1, pok2):\n",
    "    \"\"\"\n",
    "    Funciónn de lucha\n",
    "    \"\"\"\n",
    "    pok1_turno = True\n",
    "    # Inicializamos ronda\n",
    "    ronda = 0\n",
    "    # generamos el bucle\n",
    "    while pok1.esta_vivo() and pok2.esta_vivo():\n",
    "        # vamos incrementando las rondas desde la primera\n",
    "        ronda = ronda + 1\n",
    "        # Si hay turno\n",
    "        if pok1_turno:\n",
    "            # el pok2 sufre el ataque del 1\n",
    "            pok2.sufre_ataque(pok1.puntos_ataque)\n",
    "         # caso contrario\n",
    "        else:\n",
    "             # el pok2 sufre el ataque del 1\n",
    "            pok1.sufre_ataque(pok2.puntos_ataque)\n",
    "        # finaliza cuando ya no hay turno\n",
    "        pok1_turno = not pok1_turno\n",
    "    # Si el pokemon 1 está vivo\n",
    "    if pok1.esta_vivo():\n",
    "        anunciar_ganador(pok1)\n",
    "    else:\n",
    "        anunciar_ganador(pok2)"
   ]
  },
  {
   "cell_type": "markdown",
   "metadata": {},
   "source": [
    "### Introducimos los datos necesarios para la lucha"
   ]
  },
  {
   "cell_type": "code",
   "execution_count": 4,
   "metadata": {},
   "outputs": [
    {
     "name": "stdout",
     "output_type": "stream",
     "text": [
      "Inserta los puntos de vida de Pikachu\n"
     ]
    },
    {
     "name": "stdin",
     "output_type": "stream",
     "text": [
      " 100\n"
     ]
    },
    {
     "name": "stdout",
     "output_type": "stream",
     "text": [
      "Inserta los puntos de vida de jigglipuff\n"
     ]
    },
    {
     "name": "stdin",
     "output_type": "stream",
     "text": [
      " 100\n"
     ]
    },
    {
     "name": "stdout",
     "output_type": "stream",
     "text": [
      "Inserta los puntos de ataque de Pikachu\n"
     ]
    },
    {
     "name": "stdin",
     "output_type": "stream",
     "text": [
      " 25\n"
     ]
    },
    {
     "name": "stdout",
     "output_type": "stream",
     "text": [
      "Inserta los puntos de ataque de jigglipuff\n"
     ]
    },
    {
     "name": "stdin",
     "output_type": "stream",
     "text": [
      " 20\n"
     ]
    }
   ],
   "source": [
    "print(\"Inserta los puntos de vida de Pikachu\")\n",
    "pikachu_puntos_vida = int(input())\n",
    "print(\"Inserta los puntos de vida de jigglipuff\")\n",
    "jigglipuff_puntos_vida = int(input())\n",
    "print(\"Inserta los puntos de ataque de Pikachu\")\n",
    "pikachu_puntos_ataque = int(input())\n",
    "print(\"Inserta los puntos de ataque de jigglipuff\")\n",
    "jigglipuff_puntos_ataque = int(input())"
   ]
  },
  {
   "cell_type": "code",
   "execution_count": 5,
   "metadata": {},
   "outputs": [],
   "source": [
    "# Aplicamos los datos introducidos al objeto indicado en un inicio\n",
    "pikachu = Pokemon(\"Pikachu\", pikachu_puntos_vida, pikachu_puntos_ataque)\n",
    "jigglipuff = Pokemon(\"Jigglipuff\", jigglipuff_puntos_vida, jigglipuff_puntos_ataque)"
   ]
  },
  {
   "cell_type": "markdown",
   "metadata": {},
   "source": [
    "## Toca luchar"
   ]
  },
  {
   "cell_type": "code",
   "execution_count": 6,
   "metadata": {},
   "outputs": [
    {
     "name": "stdout",
     "output_type": "stream",
     "text": [
      "Gana: Pikachu!\n"
     ]
    }
   ],
   "source": [
    "lucha(pikachu, jigglipuff)"
   ]
  }
 ],
 "metadata": {
  "kernelspec": {
   "display_name": "Python 3",
   "language": "python",
   "name": "python3"
  },
  "language_info": {
   "codemirror_mode": {
    "name": "ipython",
    "version": 3
   },
   "file_extension": ".py",
   "mimetype": "text/x-python",
   "name": "python",
   "nbconvert_exporter": "python",
   "pygments_lexer": "ipython3",
   "version": "3.7.6"
  }
 },
 "nbformat": 4,
 "nbformat_minor": 4
}
