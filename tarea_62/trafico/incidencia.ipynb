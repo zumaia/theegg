{
 "cells": [
  {
   "cell_type": "markdown",
   "metadata": {},
   "source": [
    "# Incidencias Trafico Euskadi"
   ]
  },
  {
   "cell_type": "markdown",
   "metadata": {},
   "source": [
    "Andes de nada, tenemos que tener instalado xmlstarlet para poder parsear el fichero xml que generemos."
   ]
  },
  {
   "cell_type": "code",
   "execution_count": 1,
   "metadata": {},
   "outputs": [],
   "source": [
    "#!/bin/bash\n",
    "# Script para tratar datos."
   ]
  },
  {
   "cell_type": "code",
   "execution_count": 2,
   "metadata": {},
   "outputs": [
    {
     "name": "stdout",
     "output_type": "stream",
     "text": [
      "/bin/bash: line 0: cd: too many arguments\n"
     ]
    }
   ],
   "source": [
    "# Accedemos primero a la carpeta donde deseamos realizar todo el tratamiento.\n",
    "! cd /home/oscar/Documentos/TheEgg/tarea_62 Scripting/trafico"
   ]
  },
  {
   "cell_type": "code",
   "execution_count": 3,
   "metadata": {},
   "outputs": [],
   "source": [
    "# Suprimimos posibles ficheros anteriores.\n",
    "# El parámetro -f fuerza a no pedir nada al usuario.\n",
    "! rm -f IncidenciasTrafikoTDTGeoZip\n",
    "! rm -f IncidenciasTDTGeo*.xml\n",
    "! rm -f datos.csv"
   ]
  },
  {
   "cell_type": "code",
   "execution_count": 4,
   "metadata": {},
   "outputs": [
    {
     "name": "stdout",
     "output_type": "stream",
     "text": [
      "--2021-02-25 21:43:39--  https://www.trafikoa.eus/servicios/IncidenciasTDT/IncidenciasTrafikoTDTGeoZip\n",
      "Resolving www.trafikoa.eus (www.trafikoa.eus)... 195.235.171.9\n",
      "Connecting to www.trafikoa.eus (www.trafikoa.eus)|195.235.171.9|:443... connected.\n",
      "HTTP request sent, awaiting response... 200 OK\n",
      "Length: 5440 (5.3K) [application/zip]\n",
      "Saving to: 'IncidenciasTrafikoTDTGeoZip'\n",
      "\n",
      "IncidenciasTrafikoT 100%[===================>]   5.31K  --.-KB/s    in 0.002s  \n",
      "\n",
      "2021-02-25 21:43:40 (2.62 MB/s) - 'IncidenciasTrafikoTDTGeoZip' saved [5440/5440]\n",
      "\n",
      "Archive:  IncidenciasTrafikoTDTGeoZip\n",
      "  inflating: IncidenciasTDTGeo.xml   \n"
     ]
    }
   ],
   "source": [
    "# Obtenemos el fichero y lo descomprimimos.\n",
    "! wget https://www.trafikoa.eus/servicios/IncidenciasTDT/IncidenciasTrafikoTDTGeoZip\n",
    "! unzip IncidenciasTrafikoTDTGeo*"
   ]
  },
  {
   "cell_type": "code",
   "execution_count": 5,
   "metadata": {},
   "outputs": [],
   "source": [
    "# Parseamos el fichero .xml y generamos un fichero .csv\n",
    "! \txmlstarlet sel -t \\\n",
    "\t  -m / -o \"tipo;autonomia;provincia;matricula;causa;poblacion;fechahora_ini;nivel;carretera;sentido;longitud;latitud\" -n -b \\\n",
    "\t  -m /raiz/incidenciaGeolocalizada  \\\n",
    "\t  -v ../tipo -o \";\" -v autonomia -o \";\" \\\n",
    "\t  -v provincia -o \";\" -v matricula -o \";\" \\\n",
    "\t  -v causa -o \";\" -v poblacion -o \";\" \\\n",
    "\t  -v fechahora_ini -o \";\" -v nivel -o \";\" \\\n",
    "\t  -v carretera -o \";\" -v sentido -o \";\" \\\n",
    "\t  -v longitud -o \";\" -v latitud -n \\\n",
    "\tIncidenciasTDTGeo.xml > datos.csv"
   ]
  },
  {
   "cell_type": "markdown",
   "metadata": {},
   "source": [
    "Agregamos permisos de ejecución a este fichero con el comando chmod:\n",
    "\n",
    "\toscar@oscar:~/Documentos/TheEgg/tarea_62 Scripting/trafico$  chmod +x obtieneDatos.sh\n",
    "\toscar@oscar:~/Documentos/TheEgg/tarea_62 Scripting/trafico$  ./obtieneDatos.sh"
   ]
  },
  {
   "cell_type": "code",
   "execution_count": 6,
   "metadata": {},
   "outputs": [],
   "source": [
    "### Agregar una línea al fichero «/etc/crontab» que automatizaría la ejecución:"
   ]
  },
  {
   "cell_type": "markdown",
   "metadata": {},
   "source": [
    "30 7 2 * *     usuario     /home/oscar/Documentos/TheEgg/tarea_62 Scripting/traficoobtieneDatos.sh    \n",
    "A las 7:30 del día 2 de cada mes, en esta carpeta habrá un fichero «datos.csv»"
   ]
  },
  {
   "cell_type": "markdown",
   "metadata": {},
   "source": [
    "## Resultado"
   ]
  },
  {
   "cell_type": "markdown",
   "metadata": {},
   "source": [
    "![](resultado.png)"
   ]
  },
  {
   "cell_type": "code",
   "execution_count": null,
   "metadata": {},
   "outputs": [],
   "source": []
  }
 ],
 "metadata": {
  "kernelspec": {
   "display_name": "Python 3",
   "language": "python",
   "name": "python3"
  },
  "language_info": {
   "codemirror_mode": {
    "name": "ipython",
    "version": 3
   },
   "file_extension": ".py",
   "mimetype": "text/x-python",
   "name": "python",
   "nbconvert_exporter": "python",
   "pygments_lexer": "ipython3",
   "version": "3.7.6"
  }
 },
 "nbformat": 4,
 "nbformat_minor": 4
}
