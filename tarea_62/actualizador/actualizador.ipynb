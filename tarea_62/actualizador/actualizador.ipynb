{
 "cells": [
  {
   "cell_type": "markdown",
   "metadata": {},
   "source": [
    "# Actualizador"
   ]
  },
  {
   "cell_type": "markdown",
   "metadata": {},
   "source": [
    "Este script sirve para actualizar el software y distribuciones de ubuntu"
   ]
  },
  {
   "cell_type": "markdown",
   "metadata": {},
   "source": [
    "Abrimos un editor de texto plano"
   ]
  },
  {
   "cell_type": "markdown",
   "metadata": {},
   "source": [
    "    #!/bin/bash\n",
    "    sudo apt-get update\n",
    "    sudo apt-get -y upgrade\n",
    "    sudo apt-get -y dist-upgrade\n",
    "    sudo apt-get clean\n",
    "    sudo apt-get -y autoremove\n",
    "    # reboot"
   ]
  },
  {
   "cell_type": "markdown",
   "metadata": {},
   "source": [
    "Guardamos como actualizador.sh"
   ]
  },
  {
   "cell_type": "markdown",
   "metadata": {},
   "source": [
    "Agregamos permisos de ejecución a este fichero con el comando chmod:\n",
    "\n",
    "\toscar@oscar:~/Documentos/TheEgg/tarea_62 Scripting/trafico$  chmod +x actualizador.sh\n",
    "\toscar@oscar:~/Documentos/TheEgg/tarea_62 Scripting/trafico$  ./actualizador.sh"
   ]
  },
  {
   "cell_type": "markdown",
   "metadata": {},
   "source": [
    "Editamos el crontb"
   ]
  },
  {
   "cell_type": "markdown",
   "metadata": {},
   "source": [
    "    $ sudo crontab -e\n",
    "    \n",
    "    o \n",
    "    \n",
    "    $ crontab -e"
   ]
  },
  {
   "cell_type": "markdown",
   "metadata": {},
   "source": [
    "añadimos esta linea"
   ]
  },
  {
   "cell_type": "markdown",
   "metadata": {},
   "source": [
    "0 3 * * * sudo bash /home/oscar/Documentos/TheEgg/tarea_62 Scripting/actualizador"
   ]
  },
  {
   "cell_type": "code",
   "execution_count": null,
   "metadata": {},
   "outputs": [],
   "source": []
  }
 ],
 "metadata": {
  "kernelspec": {
   "display_name": "Python 3",
   "language": "python",
   "name": "python3"
  },
  "language_info": {
   "codemirror_mode": {
    "name": "ipython",
    "version": 3
   },
   "file_extension": ".py",
   "mimetype": "text/x-python",
   "name": "python",
   "nbconvert_exporter": "python",
   "pygments_lexer": "ipython3",
   "version": "3.7.6"
  }
 },
 "nbformat": 4,
 "nbformat_minor": 4
}
