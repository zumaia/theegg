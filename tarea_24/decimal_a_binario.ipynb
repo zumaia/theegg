{
 "cells": [
  {
   "cell_type": "markdown",
   "metadata": {},
   "source": [
    "# Construye un simulador"
   ]
  },
  {
   "cell_type": "markdown",
   "metadata": {},
   "source": [
    "### Para ejecutar:\n",
    "# $python decimal_a_binary.py"
   ]
  },
  {
   "cell_type": "markdown",
   "metadata": {},
   "source": [
    "Cabe de decir que TODO es analógico en este Mundo, hasta los ordenadores \"digitales\" aunque parezca contradictorio ;-)\n",
    "\n",
    "Los ordenadores no son mas que circuitos eléctricos que funcionan con intensidades y diferencias de tensión. La única diferencia es que están pensados para trabajar en 2 estados:\n",
    "\n",
    "1.- Intensidad SÍ en código binario es un 1 2.- Intensidad NO en código binario es un 0\n",
    "\n",
    "El 0 y el 1 sólo existen en nuestras cabezas, realmente lo que hay detrás son transistores abiertos y cerrados. Sí, el transistor es la clave de la revolución digital y no nos referimos a la radio.\n",
    "Nota para la juventud: a la radio se le llamaba transistor.\n",
    "\n",
    "Imaginad el transistor como una compuerta que se abre y se cierra muy rápidamente, sin estados intermedios. A esta apertura y cierre se la conoce como conmutación y es uno de los modos más habituales de trabajo de estos componentes. Pues bien, esta rapidísima conmutación es la responsable de generar corriente o no, de generar bits con valor 1 o 0.\n",
    "\n",
    "Ahora imagínate millones de transistores trabajando en paralelo. Eso significa millones de bits por segundo. Si un bit es la unidad de información más pequeña millones de bits puede ser muchísima información que se gestiona velozmente.\n",
    "\n",
    "Caso de uso: La gestión del color de un píxel. Un píxel no es mas que una pequeña \"bombillita\" (se conoce como led) que tienes en el monitor de tu ordenador. Muchas \"bombillitas\" puestas matricialmente dibujan lo que ves en cada momento en el ordenador. Como sabréis todo color tiene 3 colores fundamentales (rojo, verde, azul) y la mezcla de estos tres es el color resultante. Los ordenadores utilizan 8 bits por cada color, desde el 00000000 hasta el 11111111. Esto traducido a números decimales es desde 0 hasta el 255, donde el 0 es ausencia de color (negro) y el 255 (blanco). Para un led en escala de grises con 8 bits (8 transistores) podríamos gestionar la intensidad de luz. En el caso de leds de colores necesitaremos 8x3 (RGB) = 24 bits. De este modo, con 24 bits podríamos gestionar el color de un led. 24 transistores para un led???\n",
    "\n",
    "Pues sí, actualmente los ordenadores tienen miles de millones de transistores... y creciendo.\n",
    "\n",
    "Lo cierto, aunque parezca mentira, es que este nuevo idioma (el binario) facilita mucho el cálculo y el diseño de circuitos electrónicos más baratos y con muchas más prestaciones si los comparamos con los circuitos analógicos \"puros y clásicos\". Estas nuevas reglas diseñadas para construir circuitos digitales se conocen como la algebra boole.\n",
    "\n",
    "Vayamos al grano:\n",
    "En este caso hay que desarrollar un programa donde una vez enviado un valor decimal a una función este lo convierta a binario y nos lo devuelva. Se trata de construir un simulador de un convertidor analógico digital mediante un programa (software). El hardware lo dejamos para otro día.\n",
    "\n",
    "#HASHTAGS (etiquetas de ayuda para búsqueda de información relevante)\n",
    "\n",
    "#convertidor-analógico-digital #sistema-binario #algebra-booleana\n",
    "\n",
    "LINKS DE INTERÉS\n",
    "\n",
    "https://www.youtube.com/watch?v=9_rpiAScBvk https://www.calculadoraconversor.com/decimal-a-binario-online/ https://www.youtube.com/watch?v=dIV5l9cx_ck https://www.youtube.com/watch?v=9_rpiAScBvk https://soundgirls.org/entendiendo-los-convertidores-ad-da/\n",
    "\n",
    "DICCIONARIO\n",
    "\n",
    "convertidor-analógico-digital | transistores-bipolares | frecuencia-de-muestreo | sistema-binario | algebra- booleana\n",
    "\n",
    "PUNTUACIÓN\n",
    "\n",
    "Programación: 3\n",
    "Redes: 1\n",
    "Seguridad: 0\n",
    "Algoritmia: 3"
   ]
  },
  {
   "cell_type": "code",
   "execution_count": 4,
   "metadata": {},
   "outputs": [
    {
     "name": "stdout",
     "output_type": "stream",
     "text": [
      "#===========================================#\n",
      "#   Convertidor Decimal a Binario           #\n",
      "#===========================================#\n"
     ]
    }
   ],
   "source": [
    "#!/usr/bin/env python\n",
    "# -*- coding: utf-8 -*-\n",
    "#\n",
    "#  decimal_a_binary.py\n",
    "\n",
    "'''\n",
    "Básicamente crear un programa que divida un número por 2 hasta llegar a 0 y luego agrega a una lista en ese orden,\n",
    "una vez que la lista está terminada, da la vuelta a la lista hacia atrás para mostrar el número binario correcto.\n",
    "'''\n",
    "\n",
    "#==Global Variables==#\n",
    "version = \"0.0.1\"\n",
    "dev_team = [\"Oscar Rojo\"]\n",
    "last_updated = \"10 de febrero de 2021\"\n",
    "\n",
    "\n",
    "def mode_menu():\n",
    "\t\"\"\"\n",
    "\tFunción que define el inicio\n",
    "\t\"\"\"\n",
    "\tprint(\"#===========================================#\")\n",
    "\tprint(\"#   Convertidor Decimal a Binario           #\")\n",
    "\tprint(\"#===========================================#\")\n",
    "\n",
    "# Ejecuto la presentación\n",
    "mode_menu()"
   ]
  },
  {
   "cell_type": "code",
   "execution_count": 5,
   "metadata": {},
   "outputs": [],
   "source": [
    "def decimal_to_binary_convert(numero):\n",
    "\t\"\"\"\n",
    "\tFunción destinada a convertir el número decimal en binario\n",
    "\t\"\"\"\n",
    "\t# Creo una lista vacia\n",
    "\tbinary_list = []\n",
    "\t# Para tener como referencia\n",
    "\told_number = numero\n",
    "\t# Configuramos nuestro bucle para terminar una conversión completa.\n",
    "\twhile (numero > .5):\n",
    "\t\t# If a number/2 = a number and 1/2\n",
    "\t\tif numero % 2 != 0:\n",
    "\t\t\tbinary_list.append(1)\n",
    "\t\telse:\n",
    "\t\t\t# Si un numero es entero\n",
    "\t\t\tbinary_list.append(0) # If a number is a whole number.\n",
    "\t\t# divido el número inicial por 2\n",
    "\t\tnumero /= 2\n",
    "\t\t# Deshágase del 0,5 si hay uno.\n",
    "\t\tnumero = int(numero)\n",
    "\t\t# Si quiero ver como trabaja, puedo habilitar la siguiente opciónl\n",
    "\t\t# print(binary_list)\n",
    "\t\tprint()\n",
    "\tprint(\"La valor Binaria de \" + str(old_number) + \" es: \")\n",
    "\t# Imprime la lista binaria del revés para mostrarla correctamente.\n",
    "\tprint(binary_list[::-1])\n",
    "\n",
    "def main():\n",
    "\t\"\"\"\n",
    "\tFunción destinada a ejecutar lo anterior\n",
    "\t\"\"\"\n",
    "\tprint(\"Convertidor Decimal a Binario!\")\n",
    "\tswitch = 0\n",
    "\twhile (switch == 0):\n",
    "\t\tnumero = int(input(\"Por favor, inserta un número decimal para convertir: \"))\n",
    "\t\t# Llamo a la función generada\n",
    "\t\tdecimal_to_binary_convert(numero)\n",
    "\t\tprint()\n",
    "\t\tquestion = 1\n",
    "\t\twhile(question == 1):\n",
    "\t\t\tuser_response = input(\"Has terminado? Si o No: \").lower()\n",
    "\t\t\tprint()\n",
    "\t\t\tif user_response == \"si\":\n",
    "\t\t\t\tswitch = 1\n",
    "\t\t\t\tquestion = 0\n",
    "\t\t\telif user_response == \"no\":\n",
    "\t\t\t\tswitch = 0\n",
    "\t\t\t\tquestion = 0\n",
    "\t\t\telse:\n",
    "\t\t\t\tprint(\"Respuesta incorrecta, intenta otra vez\")\n",
    "\t\t\t\tquestion = 1\n",
    "\tprint(\"Gracias por utilizar el programa\")\n",
    "\tprint(\"version: \" + str(version))\n",
    "\tprint(\"Ultima actualización: \" + last_updated )"
   ]
  },
  {
   "cell_type": "code",
   "execution_count": 3,
   "metadata": {},
   "outputs": [
    {
     "name": "stdout",
     "output_type": "stream",
     "text": [
      "Convertidor Decimal a Binario!\n"
     ]
    },
    {
     "name": "stdin",
     "output_type": "stream",
     "text": [
      "Por favor, inserta un número decimal para convertir:  15\n"
     ]
    },
    {
     "name": "stdout",
     "output_type": "stream",
     "text": [
      "\n",
      "\n",
      "\n",
      "\n",
      "La forma Binaria 15 es: \n",
      "[1, 1, 1, 1]\n",
      "\n"
     ]
    },
    {
     "name": "stdin",
     "output_type": "stream",
     "text": [
      "Has terminado? Si o No:  si\n"
     ]
    },
    {
     "name": "stdout",
     "output_type": "stream",
     "text": [
      "\n",
      "Gracias por utilizar el programa\n",
      "version: 0.0.1\n",
      "Ultima actualización: 10 de febrero de 2021\n"
     ]
    }
   ],
   "source": [
    "# Ejecuto la función principal\n",
    "main()"
   ]
  }
 ],
 "metadata": {
  "kernelspec": {
   "display_name": "Python 3",
   "language": "python",
   "name": "python3"
  },
  "language_info": {
   "codemirror_mode": {
    "name": "ipython",
    "version": 3
   },
   "file_extension": ".py",
   "mimetype": "text/x-python",
   "name": "python",
   "nbconvert_exporter": "python",
   "pygments_lexer": "ipython3",
   "version": "3.7.6"
  }
 },
 "nbformat": 4,
 "nbformat_minor": 4
}
