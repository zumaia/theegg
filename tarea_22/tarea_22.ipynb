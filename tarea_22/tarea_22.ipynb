{
 "cells": [
  {
   "cell_type": "code",
   "execution_count": 1,
   "metadata": {},
   "outputs": [],
   "source": [
    "# Importo la libreria\n",
    "import pandas as pd"
   ]
  },
  {
   "cell_type": "code",
   "execution_count": 2,
   "metadata": {},
   "outputs": [
    {
     "name": "stdin",
     "output_type": "stream",
     "text": [
      "Peso total que el camión puede llevar en kg:  100\n",
      "Número total de vacas a la venta:  7\n"
     ]
    }
   ],
   "source": [
    "# Introducimos los datos que tenemos\n",
    "capacidad = int(input(\"Peso total que el camión puede llevar en kg: \"))\n",
    "n = int(input(\"Número total de vacas a la venta: \"))\n",
    "caracteristicas_vacas = []"
   ]
  },
  {
   "cell_type": "code",
   "execution_count": 3,
   "metadata": {},
   "outputs": [
    {
     "name": "stdin",
     "output_type": "stream",
     "text": [
      "Peso en kg de la vaca 1 :  10\n",
      "Producción en l/día de la vaca 1 :  250\n",
      "Peso en kg de la vaca 2 :  15\n",
      "Producción en l/día de la vaca 2 :  350\n",
      "Peso en kg de la vaca 3 :  20\n",
      "Producción en l/día de la vaca 3 :  700\n",
      "Peso en kg de la vaca 4 :  35\n",
      "Producción en l/día de la vaca 4 :  850\n",
      "Peso en kg de la vaca 5 :  40\n",
      "Producción en l/día de la vaca 5 :  700\n",
      "Peso en kg de la vaca 6 :  45\n",
      "Producción en l/día de la vaca 6 :  900\n",
      "Peso en kg de la vaca 7 :  50\n",
      "Producción en l/día de la vaca 7 :  800\n"
     ]
    }
   ],
   "source": [
    "#Petición de datos de cada vaca y almacenamiento en un array de colecciones tipo diccionario\n",
    "for count in range(n):\n",
    "    peso = int(input(f\"Peso en kg de la vaca {count+1} : \"))\n",
    "    produccion = int(input(f\"Producción en l/día de la vaca {count+1} : \"))\n",
    "    caracteristicas_vacas.append(dict(key = count+1, key_peso = peso, key_produccion = produccion))"
   ]
  },
  {
   "cell_type": "code",
   "execution_count": 10,
   "metadata": {},
   "outputs": [
    {
     "data": {
      "text/html": [
       "<div>\n",
       "<style scoped>\n",
       "    .dataframe tbody tr th:only-of-type {\n",
       "        vertical-align: middle;\n",
       "    }\n",
       "\n",
       "    .dataframe tbody tr th {\n",
       "        vertical-align: top;\n",
       "    }\n",
       "\n",
       "    .dataframe thead th {\n",
       "        text-align: right;\n",
       "    }\n",
       "</style>\n",
       "<table border=\"1\" class=\"dataframe\">\n",
       "  <thead>\n",
       "    <tr style=\"text-align: right;\">\n",
       "      <th></th>\n",
       "      <th>key</th>\n",
       "      <th>key_peso</th>\n",
       "      <th>key_produccion</th>\n",
       "    </tr>\n",
       "  </thead>\n",
       "  <tbody>\n",
       "    <tr>\n",
       "      <th>0</th>\n",
       "      <td>1</td>\n",
       "      <td>10</td>\n",
       "      <td>250</td>\n",
       "    </tr>\n",
       "    <tr>\n",
       "      <th>1</th>\n",
       "      <td>2</td>\n",
       "      <td>15</td>\n",
       "      <td>350</td>\n",
       "    </tr>\n",
       "    <tr>\n",
       "      <th>2</th>\n",
       "      <td>3</td>\n",
       "      <td>20</td>\n",
       "      <td>700</td>\n",
       "    </tr>\n",
       "    <tr>\n",
       "      <th>3</th>\n",
       "      <td>4</td>\n",
       "      <td>35</td>\n",
       "      <td>850</td>\n",
       "    </tr>\n",
       "    <tr>\n",
       "      <th>4</th>\n",
       "      <td>5</td>\n",
       "      <td>40</td>\n",
       "      <td>700</td>\n",
       "    </tr>\n",
       "    <tr>\n",
       "      <th>5</th>\n",
       "      <td>6</td>\n",
       "      <td>45</td>\n",
       "      <td>900</td>\n",
       "    </tr>\n",
       "    <tr>\n",
       "      <th>6</th>\n",
       "      <td>7</td>\n",
       "      <td>50</td>\n",
       "      <td>800</td>\n",
       "    </tr>\n",
       "  </tbody>\n",
       "</table>\n",
       "</div>"
      ],
      "text/plain": [
       "   key  key_peso  key_produccion\n",
       "0    1        10             250\n",
       "1    2        15             350\n",
       "2    3        20             700\n",
       "3    4        35             850\n",
       "4    5        40             700\n",
       "5    6        45             900\n",
       "6    7        50             800"
      ]
     },
     "execution_count": 10,
     "metadata": {},
     "output_type": "execute_result"
    }
   ],
   "source": [
    "# Convierto el diccionario en dataframe\n",
    "datos = pd.DataFrame(caracteristicas_vacas)\n",
    "datos"
   ]
  },
  {
   "cell_type": "code",
   "execution_count": 11,
   "metadata": {},
   "outputs": [
    {
     "data": {
      "text/html": [
       "<div>\n",
       "<style scoped>\n",
       "    .dataframe tbody tr th:only-of-type {\n",
       "        vertical-align: middle;\n",
       "    }\n",
       "\n",
       "    .dataframe tbody tr th {\n",
       "        vertical-align: top;\n",
       "    }\n",
       "\n",
       "    .dataframe thead th {\n",
       "        text-align: right;\n",
       "    }\n",
       "</style>\n",
       "<table border=\"1\" class=\"dataframe\">\n",
       "  <thead>\n",
       "    <tr style=\"text-align: right;\">\n",
       "      <th></th>\n",
       "      <th>key</th>\n",
       "      <th>key_peso</th>\n",
       "      <th>key_produccion</th>\n",
       "      <th>rentabilidad</th>\n",
       "    </tr>\n",
       "  </thead>\n",
       "  <tbody>\n",
       "    <tr>\n",
       "      <th>2</th>\n",
       "      <td>3</td>\n",
       "      <td>20</td>\n",
       "      <td>700</td>\n",
       "      <td>35.000000</td>\n",
       "    </tr>\n",
       "    <tr>\n",
       "      <th>0</th>\n",
       "      <td>1</td>\n",
       "      <td>10</td>\n",
       "      <td>250</td>\n",
       "      <td>25.000000</td>\n",
       "    </tr>\n",
       "    <tr>\n",
       "      <th>3</th>\n",
       "      <td>4</td>\n",
       "      <td>35</td>\n",
       "      <td>850</td>\n",
       "      <td>24.285714</td>\n",
       "    </tr>\n",
       "    <tr>\n",
       "      <th>1</th>\n",
       "      <td>2</td>\n",
       "      <td>15</td>\n",
       "      <td>350</td>\n",
       "      <td>23.333333</td>\n",
       "    </tr>\n",
       "    <tr>\n",
       "      <th>5</th>\n",
       "      <td>6</td>\n",
       "      <td>45</td>\n",
       "      <td>900</td>\n",
       "      <td>20.000000</td>\n",
       "    </tr>\n",
       "    <tr>\n",
       "      <th>4</th>\n",
       "      <td>5</td>\n",
       "      <td>40</td>\n",
       "      <td>700</td>\n",
       "      <td>17.500000</td>\n",
       "    </tr>\n",
       "    <tr>\n",
       "      <th>6</th>\n",
       "      <td>7</td>\n",
       "      <td>50</td>\n",
       "      <td>800</td>\n",
       "      <td>16.000000</td>\n",
       "    </tr>\n",
       "  </tbody>\n",
       "</table>\n",
       "</div>"
      ],
      "text/plain": [
       "   key  key_peso  key_produccion  rentabilidad\n",
       "2    3        20             700     35.000000\n",
       "0    1        10             250     25.000000\n",
       "3    4        35             850     24.285714\n",
       "1    2        15             350     23.333333\n",
       "5    6        45             900     20.000000\n",
       "4    5        40             700     17.500000\n",
       "6    7        50             800     16.000000"
      ]
     },
     "execution_count": 11,
     "metadata": {},
     "output_type": "execute_result"
    }
   ],
   "source": [
    "# Ordeno por rentabilidad.\n",
    "datos['rentabilidad']= datos['key_produccion']/datos['key_peso']\n",
    "datos = datos.sort_values(by=['rentabilidad'], ascending=False)\n",
    "datos"
   ]
  },
  {
   "cell_type": "code",
   "execution_count": 6,
   "metadata": {},
   "outputs": [],
   "source": [
    "# convierto en listas\n",
    "vaca = datos['key'].tolist()\n",
    "peso = datos['key_peso'].tolist()\n",
    "produccion = datos['key_produccion'].tolist()"
   ]
  },
  {
   "cell_type": "code",
   "execution_count": 12,
   "metadata": {},
   "outputs": [
    {
     "data": {
      "text/plain": [
       "[3, 1, 4, 2, 6, 5, 7]"
      ]
     },
     "execution_count": 12,
     "metadata": {},
     "output_type": "execute_result"
    }
   ],
   "source": [
    "vaca"
   ]
  },
  {
   "cell_type": "code",
   "execution_count": 13,
   "metadata": {},
   "outputs": [
    {
     "data": {
      "text/plain": [
       "[20, 10, 35, 15, 45, 40, 50]"
      ]
     },
     "execution_count": 13,
     "metadata": {},
     "output_type": "execute_result"
    }
   ],
   "source": [
    "peso"
   ]
  },
  {
   "cell_type": "code",
   "execution_count": 14,
   "metadata": {},
   "outputs": [
    {
     "data": {
      "text/plain": [
       "[700, 250, 850, 350, 900, 700, 800]"
      ]
     },
     "execution_count": 14,
     "metadata": {},
     "output_type": "execute_result"
    }
   ],
   "source": [
    "produccion"
   ]
  },
  {
   "cell_type": "code",
   "execution_count": 7,
   "metadata": {},
   "outputs": [],
   "source": [
    "# vemos el peso de las vacas mas productivas hasta llegar a peso del camión\n",
    "i = 0\n",
    "s = 0\n",
    "new_list = []\n",
    "while i < len(peso) and s + peso[i] < capacidad:\n",
    "    new_list.append(peso[i])\n",
    "    s += peso[i]\n",
    "    i += 1"
   ]
  },
  {
   "cell_type": "code",
   "execution_count": 15,
   "metadata": {},
   "outputs": [
    {
     "data": {
      "text/plain": [
       "[20, 10, 35, 15]"
      ]
     },
     "execution_count": 15,
     "metadata": {},
     "output_type": "execute_result"
    }
   ],
   "source": [
    "new_list"
   ]
  },
  {
   "cell_type": "code",
   "execution_count": 16,
   "metadata": {},
   "outputs": [],
   "source": [
    "#Obtengo la producción máxima    \n",
    "def camion_ingenuo(produccion, peso, capacidad, n):\n",
    "    if n == -1 or capacidad == 0:\n",
    "        return 0\n",
    "    if peso[n] <= capacidad:\n",
    "        no_insert = camion_ingenuo(produccion, peso, capacidad, n-1)\n",
    "        insert = produccion[n] + camion_ingenuo(produccion, peso, capacidad - peso[n], n-1)\n",
    "        max_sack = max(no_insert, insert)\n",
    "        return max_sack \n",
    "    else:\n",
    "        return camion_ingenuo(produccion, peso, capacidad, n-1)\n",
    "\n",
    "result = (camion_ingenuo(produccion, peso, capacidad, n-1))    "
   ]
  },
  {
   "cell_type": "code",
   "execution_count": 17,
   "metadata": {},
   "outputs": [
    {
     "name": "stdout",
     "output_type": "stream",
     "text": [
      "La combinacion de vacas que entra en el camión y que produce la mayor cantidad de leche es: \n",
      "vaca número:  [3, 1, 4, 2]\n",
      "Peso de las vacas seleccionadas:  [20, 10, 35, 15]\n",
      "Produccion total:  2450\n"
     ]
    }
   ],
   "source": [
    "   \n",
    "\n",
    "print(\"La combinacion de vacas que entra en el camión y que produce la mayor cantidad de leche es: \")\n",
    "\n",
    "\n",
    "print(\"vaca número: \", vaca[0:len(new_list)])\n",
    "print(\"Peso de las vacas seleccionadas: \", new_list)\n",
    "print(\"Produccion total: \", result)"
   ]
  },
  {
   "cell_type": "code",
   "execution_count": null,
   "metadata": {},
   "outputs": [],
   "source": []
  }
 ],
 "metadata": {
  "kernelspec": {
   "display_name": "Python 3",
   "language": "python",
   "name": "python3"
  },
  "language_info": {
   "codemirror_mode": {
    "name": "ipython",
    "version": 3
   },
   "file_extension": ".py",
   "mimetype": "text/x-python",
   "name": "python",
   "nbconvert_exporter": "python",
   "pygments_lexer": "ipython3",
   "version": "3.7.6"
  }
 },
 "nbformat": 4,
 "nbformat_minor": 4
}
