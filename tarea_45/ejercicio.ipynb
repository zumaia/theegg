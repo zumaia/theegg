{
 "cells": [
  {
   "cell_type": "markdown",
   "metadata": {},
   "source": [
    "### EJERCICIO A RESOLVER: \n",
    "\n",
    "Tenemos la siguiente lista de elementos: [3, 56, 21, 33, 874, 123, 66, 1000,\n",
    "23, 45, 65, 56].  "
   ]
  },
  {
   "cell_type": "code",
   "execution_count": 1,
   "metadata": {},
   "outputs": [
    {
     "data": {
      "text/plain": [
       "[3, 56, 21, 33, 874, 123, 66, 1000, 23, 45, 65, 56]"
      ]
     },
     "execution_count": 1,
     "metadata": {},
     "output_type": "execute_result"
    }
   ],
   "source": [
    "# Creamos la lista\n",
    "lista = [3, 56, 21, 33, 874, 123, 66, 1000, 23, 45, 65, 56]\n",
    "lista"
   ]
  },
  {
   "cell_type": "markdown",
   "metadata": {},
   "source": [
    "1.- Construye tu propio algoritmo para ordenarlo de menor a mayor. "
   ]
  },
  {
   "cell_type": "code",
   "execution_count": 2,
   "metadata": {},
   "outputs": [
    {
     "data": {
      "text/plain": [
       "[3, 21, 23, 33, 45, 56, 56, 65, 66, 123, 874, 1000]"
      ]
     },
     "execution_count": 2,
     "metadata": {},
     "output_type": "execute_result"
    }
   ],
   "source": [
    "lista_ord = sorted(lista)\n",
    "lista_ord"
   ]
  },
  {
   "cell_type": "markdown",
   "metadata": {},
   "source": [
    " \n",
    "2.- Busca el número 875 utilizando el algoritmo secuencial y el binario. En cada iteración se debe sumar +1 de modo que al final del programa se debe indicar el número de iteraciones realizadas por cada algoritmo hasta encontrar el elemento.  "
   ]
  },
  {
   "cell_type": "code",
   "execution_count": 3,
   "metadata": {},
   "outputs": [],
   "source": [
    "def Sequential_Search(dlist, item):\n",
    "\n",
    "    pos = 0\n",
    "    found = False\n",
    "    \n",
    "    while pos < len(dlist) and not found:\n",
    "        if dlist[pos] == item:\n",
    "            found = True\n",
    "        else:\n",
    "            pos = pos + 1\n",
    "    \n",
    "    return found, pos"
   ]
  },
  {
   "cell_type": "markdown",
   "metadata": {},
   "source": [
    "OUTPUT \"¿Qué número deseas buscar?\"  \n",
    "INPUT el usuario introduce el número   \n",
    "ALMACENAR la entrada del usuario en la variable número_de_cliente  \n",
    "contador = 1   \n",
    "(necesitamos contar el número de registros que hemos buscado)  \n",
    "more_records = True   \n",
    "(necesitamos un indicador que diga si hay más registros disponibles para buscar  \n",
    "o si hemos llegado al final de la base de datos)  \n",
    "WHILE more_records = True:  \n",
    "\tIF counter = customer_number THEN  \n",
    "\t\tOUTPUT dirección del cliente  \n",
    "\t\tSalir del bucle  \n",
    "ELSE  \n",
    "\tañadir 1 al contador  \n"
   ]
  },
  {
   "cell_type": "markdown",
   "metadata": {},
   "source": [
    "![](image.png)"
   ]
  },
  {
   "cell_type": "code",
   "execution_count": 4,
   "metadata": {},
   "outputs": [],
   "source": [
    "resultado = Sequential_Search(lista_ord, 874)"
   ]
  },
  {
   "cell_type": "code",
   "execution_count": 5,
   "metadata": {},
   "outputs": [
    {
     "name": "stdout",
     "output_type": "stream",
     "text": [
      "Resultado True, despues de 10 iteraciones\n"
     ]
    }
   ],
   "source": [
    "print(\"Resultado {}, despues de {} iteraciones\".format(resultado[0], resultado[1]))"
   ]
  },
  {
   "cell_type": "code",
   "execution_count": 6,
   "metadata": {},
   "outputs": [],
   "source": [
    "def binary_searchiter(arr, n):\n",
    "    pos = 0\n",
    "    low = 0\n",
    "    high = len(arr) - 1\n",
    "    mid = 0\n",
    "    while low <= high:\n",
    "        pos = pos + 1\n",
    "        mid = (high + low) // 2\n",
    "        if arr[mid] < n:\n",
    "            low = mid + 1\n",
    "        elif arr[mid] > n:\n",
    "            high = mid - 1\n",
    "        else:\n",
    "            return mid\n",
    "    return pos, -1"
   ]
  },
  {
   "cell_type": "code",
   "execution_count": 7,
   "metadata": {},
   "outputs": [],
   "source": [
    "r = binary_searchiter(lista_ord, 875)"
   ]
  },
  {
   "cell_type": "code",
   "execution_count": 8,
   "metadata": {},
   "outputs": [
    {
     "name": "stdout",
     "output_type": "stream",
     "text": [
      "Elemento no presente despues de 4 iteraciones\n"
     ]
    }
   ],
   "source": [
    "if r[1] != -1:\n",
    "    print(\"Elemento encontrado tras {} iteraciones\".format(r[0]))\n",
    "else: \n",
    "    print(\"Elemento no presente despues de {} iteraciones\".format(r[0]))"
   ]
  },
  {
   "cell_type": "markdown",
   "metadata": {},
   "source": [
    "3.- Realiza el análisis en $O$ [Notación Big O](https://www.youtube.com/watch?v=dyw0SohyEkw)"
   ]
  },
  {
   "cell_type": "markdown",
   "metadata": {},
   "source": [
    "[![video](https://res.cloudinary.com/marcomontalbano/image/upload/v1614626595/video_to_markdown/images/youtube--dyw0SohyEkw-c05b58ac6eb4c4700831b2b3070cd403.jpg)](https://www.youtube.com/watch?v=dyw0SohyEkw \"video\")"
   ]
  },
  {
   "cell_type": "markdown",
   "metadata": {},
   "source": [
    "(visto en la tarea #44) y describe tu conclusiones en un documento de texto.  \n",
    "\n",
    "Debes subir a tu repositorio GitHub tanto el programa (en el lenguaje de programación que hayas elegido) y el documento de texto explicativo y razonado sobre el rendimiento y los tiempos de ejecución de cada algoritmo en notación $O Grande$.   \n",
    "\n",
    "Por supuesto, no te olvides del diccionario."
   ]
  },
  {
   "cell_type": "markdown",
   "metadata": {},
   "source": [
    "Primero cargamos la time y la función mágica"
   ]
  },
  {
   "cell_type": "code",
   "execution_count": 9,
   "metadata": {},
   "outputs": [],
   "source": [
    "%load_ext line_profiler"
   ]
  },
  {
   "cell_type": "code",
   "execution_count": 10,
   "metadata": {},
   "outputs": [],
   "source": [
    "import time"
   ]
  },
  {
   "cell_type": "markdown",
   "metadata": {},
   "source": [
    "#### Primero tratamos la busqueda secuencial"
   ]
  },
  {
   "cell_type": "code",
   "execution_count": 11,
   "metadata": {},
   "outputs": [
    {
     "name": "stdout",
     "output_type": "stream",
     "text": [
      "CPU times: user 5 µs, sys: 1 µs, total: 6 µs\n",
      "Wall time: 8.58 µs\n"
     ]
    },
    {
     "data": {
      "text/plain": [
       "(True, 10)"
      ]
     },
     "execution_count": 11,
     "metadata": {},
     "output_type": "execute_result"
    }
   ],
   "source": [
    "%time Sequential_Search(lista_ord, 874)"
   ]
  },
  {
   "cell_type": "code",
   "execution_count": 12,
   "metadata": {},
   "outputs": [
    {
     "data": {
      "text/plain": [
       "Timer unit: 1e-06 s\n",
       "\n",
       "Total time: 1.7e-05 s\n",
       "File: <ipython-input-3-cb195ef01b48>\n",
       "Function: Sequential_Search at line 1\n",
       "\n",
       "Line #      Hits         Time  Per Hit   % Time  Line Contents\n",
       "==============================================================\n",
       "     1                                           def Sequential_Search(dlist, item):\n",
       "     2                                           \n",
       "     3         1          1.0      1.0      5.9      pos = 0\n",
       "     4         1          0.0      0.0      0.0      found = False\n",
       "     5                                               \n",
       "     6        12          5.0      0.4     29.4      while pos < len(dlist) and not found:\n",
       "     7        11          4.0      0.4     23.5          if dlist[pos] == item:\n",
       "     8         1          1.0      1.0      5.9              found = True\n",
       "     9                                                   else:\n",
       "    10        10          5.0      0.5     29.4              pos = pos + 1\n",
       "    11                                               \n",
       "    12         1          1.0      1.0      5.9      return found, pos"
      ]
     },
     "metadata": {},
     "output_type": "display_data"
    }
   ],
   "source": [
    "%lprun -f Sequential_Search Sequential_Search(lista_ord, 874)"
   ]
  },
  {
   "cell_type": "markdown",
   "metadata": {},
   "source": [
    "Su complejidad es O(n^2). Esto se debe a que el bucle interno tiene una complejidad O(n) y se ejecuta n veces."
   ]
  },
  {
   "cell_type": "markdown",
   "metadata": {},
   "source": [
    "#### Segúndo la secuencia binaria"
   ]
  },
  {
   "cell_type": "code",
   "execution_count": 13,
   "metadata": {},
   "outputs": [
    {
     "name": "stdout",
     "output_type": "stream",
     "text": [
      "CPU times: user 5 µs, sys: 0 ns, total: 5 µs\n",
      "Wall time: 7.39 µs\n"
     ]
    },
    {
     "data": {
      "text/plain": [
       "10"
      ]
     },
     "execution_count": 13,
     "metadata": {},
     "output_type": "execute_result"
    }
   ],
   "source": [
    "%time binary_searchiter(lista_ord, 874)"
   ]
  },
  {
   "cell_type": "code",
   "execution_count": 14,
   "metadata": {},
   "outputs": [
    {
     "data": {
      "text/plain": [
       "Timer unit: 1e-06 s\n",
       "\n",
       "Total time: 2.2e-05 s\n",
       "File: <ipython-input-6-e44d97b9ea77>\n",
       "Function: binary_searchiter at line 1\n",
       "\n",
       "Line #      Hits         Time  Per Hit   % Time  Line Contents\n",
       "==============================================================\n",
       "     1                                           def binary_searchiter(arr, n):\n",
       "     2         1          2.0      2.0      9.1      pos = 0\n",
       "     3         1          1.0      1.0      4.5      low = 0\n",
       "     4         1          2.0      2.0      9.1      high = len(arr) - 1\n",
       "     5         1          1.0      1.0      4.5      mid = 0\n",
       "     6         3          3.0      1.0     13.6      while low <= high:\n",
       "     7         3          3.0      1.0     13.6          pos = pos + 1\n",
       "     8         3          3.0      1.0     13.6          mid = (high + low) // 2\n",
       "     9         3          4.0      1.3     18.2          if arr[mid] < n:\n",
       "    10         2          1.0      0.5      4.5              low = mid + 1\n",
       "    11         1          1.0      1.0      4.5          elif arr[mid] > n:\n",
       "    12                                                       high = mid - 1\n",
       "    13                                                   else:\n",
       "    14         1          1.0      1.0      4.5              return mid\n",
       "    15                                               return pos, -1"
      ]
     },
     "metadata": {},
     "output_type": "display_data"
    }
   ],
   "source": [
    "%lprun -f binary_searchiter binary_searchiter(lista_ord, 874)"
   ]
  },
  {
   "cell_type": "markdown",
   "metadata": {},
   "source": [
    "El código tiene complejidad $Θ(log n)$, ya que el bucle interno divide por dos en cada iteración,\n",
    "ejecutándose un total de log2n veces."
   ]
  }
 ],
 "metadata": {
  "kernelspec": {
   "display_name": "Python 3",
   "language": "python",
   "name": "python3"
  },
  "language_info": {
   "codemirror_mode": {
    "name": "ipython",
    "version": 3
   },
   "file_extension": ".py",
   "mimetype": "text/x-python",
   "name": "python",
   "nbconvert_exporter": "python",
   "pygments_lexer": "ipython3",
   "version": "3.7.6"
  }
 },
 "nbformat": 4,
 "nbformat_minor": 4
}
