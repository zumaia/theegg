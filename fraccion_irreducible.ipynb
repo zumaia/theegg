{
 "cells": [
  {
   "cell_type": "code",
   "execution_count": 19,
   "metadata": {},
   "outputs": [],
   "source": [
    "def gcd(a, b):\n",
    "    \n",
    "        \"\"\"Calcular el mayor divisor común de a y b.\n",
    "\n",
    "        A menos que b==0, el resultado tendrá el mismo signo que b (de modo que cuando\n",
    "        b se divide por ella, el resultado sale positivo).\n",
    "        \"\"\"\n",
    "        while b:\n",
    "            a, b = b, a % b\n",
    "        return a\n",
    "\n",
    "def fraccion_irreducible(numes):\n",
    "    \n",
    "    nume = str(numes)\n",
    "    num = float(nume)\n",
    "    \n",
    "    if num > 0.9999:\n",
    "        return \"El número debe de estar comprendido entre 0.9999 y 0.0001\"\n",
    "    \n",
    "    if num < 0.0001:\n",
    "        return \"El número debe de estar comprendido entre 0.9999 y 0.0001\"\n",
    "    \n",
    "    numero = num\n",
    "    \n",
    "    denominador = 10000\n",
    "    numerador = numero*10000\n",
    "    \n",
    "    denominador = round(denominador)\n",
    "    numerador = round(numerador)\n",
    "            \n",
    "    \n",
    "    common_divisor = gcd(numerador, denominador)\n",
    "    \n",
    "    (reduced_num, reduced_den) = (numerador / common_divisor, denominador / common_divisor)\n",
    "    \n",
    "    if reduced_den == 1:\n",
    "        # return \"%d/%d se simplifica a %d\" % (numerador, denomominador, reduced_num)\n",
    "        return \"El Resultado es %d\" % (reduced_num)\n",
    "    elif common_divisor == 1:\n",
    "        # return \"%d/%d ya está en su estado más simplificado\" % (numerador, denominador)\n",
    "        return \"El restulado es %d/%d\" % (numerador, denominador)\n",
    "    else:\n",
    "        # return \"%d/%d simplifica a %d/%d\" % (numerador, denominador, reduced_num, reduced_den)\n",
    "        return \"El resultado es  %d/%d\" % (reduced_num, reduced_den)"
   ]
  },
  {
   "cell_type": "code",
   "execution_count": 21,
   "metadata": {},
   "outputs": [
    {
     "data": {
      "text/plain": [
       "'El restulado es 1687/10000'"
      ]
     },
     "execution_count": 21,
     "metadata": {},
     "output_type": "execute_result"
    }
   ],
   "source": [
    "fraccion_irreducible(0.1687)"
   ]
  },
  {
   "cell_type": "code",
   "execution_count": null,
   "metadata": {},
   "outputs": [],
   "source": []
  }
 ],
 "metadata": {
  "kernelspec": {
   "display_name": "Python 3",
   "language": "python",
   "name": "python3"
  },
  "language_info": {
   "codemirror_mode": {
    "name": "ipython",
    "version": 3
   },
   "file_extension": ".py",
   "mimetype": "text/x-python",
   "name": "python",
   "nbconvert_exporter": "python",
   "pygments_lexer": "ipython3",
   "version": "3.7.6"
  }
 },
 "nbformat": 4,
 "nbformat_minor": 4
}
