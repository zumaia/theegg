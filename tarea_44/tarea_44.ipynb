{
 "cells": [
  {
   "cell_type": "markdown",
   "metadata": {},
   "source": [
    "# Tarea 44 - Análisis del rendimiento de las aplicaciones de IA \n",
    "\n",
    "## Ejercicio: Debes programar el problema que se plantea en la siguiente secuencia de videos en el lenguaje de programación que desees:"
   ]
  },
  {
   "cell_type": "markdown",
   "metadata": {},
   "source": [
    "## Primera parte"
   ]
  },
  {
   "cell_type": "markdown",
   "metadata": {},
   "source": [
    "[![video](https://res.cloudinary.com/marcomontalbano/image/upload/v1613126662/video_to_markdown/images/youtube--GD254Gotp-4-c05b58ac6eb4c4700831b2b3070cd403.jpg)](https://www.youtube.com/watch?v=GD254Gotp-4 \"video\")"
   ]
  },
  {
   "cell_type": "markdown",
   "metadata": {},
   "source": [
    "#### Reto para hacer:\n",
    "\n",
    "Definir dos funciones, una, suma_lineal, que lleve a cabo la suma de n números del 1 a n, de una forma básica, y otra, suma_constante, que lleve a cabo la misma tarea, pero utilizando la fórmula de la suma aritmética de los números del 1 a n."
   ]
  },
  {
   "cell_type": "code",
   "execution_count": 1,
   "metadata": {},
   "outputs": [],
   "source": [
    "%load_ext line_profiler"
   ]
  },
  {
   "cell_type": "code",
   "execution_count": 2,
   "metadata": {},
   "outputs": [],
   "source": [
    "import time"
   ]
  },
  {
   "cell_type": "code",
   "execution_count": 3,
   "metadata": {},
   "outputs": [],
   "source": [
    "def suma_lineal(n):\n",
    "    pass\n",
    "\n",
    "def suma_constante(n):\n",
    "    pass\n",
    "\n",
    "cantidad = 1000000\n",
    "\n",
    "def ejemplo(cantidad):\n",
    "    \n",
    "    for i in range(4): # incrementamos 5 veces\n",
    "\n",
    "        start_time = time.time()\n",
    "\n",
    "        suma1 = suma_lineal(cantidad)\n",
    "\n",
    "        middle_time = time.time()\n",
    "\n",
    "        suma2 = suma_constante(cantidad)\n",
    "\n",
    "        stop_time = time.time()\n",
    "\n",
    "        set_time = middle_time - start_time\n",
    "        list_time = stop_time - middle_time\n",
    "        \n",
    "        print(\"\\tTest en lineal para la cantidad de {}:\\t\\t{} segundos\".format(cantidad, set_time))\n",
    "        print(\"\\tTest en constantepara  para la cantidad de {}:\\t{} segundos\".format(cantidad, list_time))\n",
    "\n",
    "        cantidad *= 10 # comienza en 1000000 luego *10... hasta 10000000000\n",
    "        \n",
    "        # return set_time, list_time"
   ]
  },
  {
   "cell_type": "code",
   "execution_count": 4,
   "metadata": {},
   "outputs": [
    {
     "name": "stdout",
     "output_type": "stream",
     "text": [
      "\tTest en lineal para la cantidad de 1000000:\t\t1.9073486328125e-06 segundos\n",
      "\tTest en constantepara  para la cantidad de 1000000:\t9.5367431640625e-07 segundos\n",
      "\tTest en lineal para la cantidad de 10000000:\t\t1.430511474609375e-06 segundos\n",
      "\tTest en constantepara  para la cantidad de 10000000:\t7.152557373046875e-07 segundos\n",
      "\tTest en lineal para la cantidad de 100000000:\t\t4.76837158203125e-07 segundos\n",
      "\tTest en constantepara  para la cantidad de 100000000:\t7.152557373046875e-07 segundos\n",
      "\tTest en lineal para la cantidad de 1000000000:\t\t1.9073486328125e-06 segundos\n",
      "\tTest en constantepara  para la cantidad de 1000000000:\t7.152557373046875e-07 segundos\n"
     ]
    }
   ],
   "source": [
    "ejemplo(cantidad)"
   ]
  },
  {
   "cell_type": "markdown",
   "metadata": {},
   "source": [
    "El código itera sobre la lista de entrada, extrayendo elementos de esta y acumulándolos en otra lista para cada iteración. Podemos utilizar lprun para ver cuales son las operaciones más costosas."
   ]
  },
  {
   "cell_type": "code",
   "execution_count": 5,
   "metadata": {},
   "outputs": [
    {
     "name": "stdout",
     "output_type": "stream",
     "text": [
      "\tTest en lineal para la cantidad de 1000000:\t\t6.198883056640625e-06 segundos\n",
      "\tTest en constantepara  para la cantidad de 1000000:\t4.5299530029296875e-06 segundos\n",
      "\tTest en lineal para la cantidad de 10000000:\t\t2.86102294921875e-06 segundos\n",
      "\tTest en constantepara  para la cantidad de 10000000:\t2.384185791015625e-06 segundos\n",
      "\tTest en lineal para la cantidad de 100000000:\t\t2.384185791015625e-06 segundos\n",
      "\tTest en constantepara  para la cantidad de 100000000:\t2.6226043701171875e-06 segundos\n",
      "\tTest en lineal para la cantidad de 1000000000:\t\t2.1457672119140625e-06 segundos\n",
      "\tTest en constantepara  para la cantidad de 1000000000:\t1.9073486328125e-06 segundos\n"
     ]
    },
    {
     "data": {
      "text/plain": [
       "Timer unit: 1e-06 s\n",
       "\n",
       "Total time: 0.000449 s\n",
       "File: <ipython-input-3-8983ce29a188>\n",
       "Function: ejemplo at line 9\n",
       "\n",
       "Line #      Hits         Time  Per Hit   % Time  Line Contents\n",
       "==============================================================\n",
       "     9                                           def ejemplo(cantidad):\n",
       "    10                                               \n",
       "    11         5          6.0      1.2      1.3      for i in range(4): # incrementamos 5 veces\n",
       "    12                                           \n",
       "    13         4          7.0      1.8      1.6          start_time = time.time()\n",
       "    14                                           \n",
       "    15         4          5.0      1.2      1.1          suma1 = suma_lineal(cantidad)\n",
       "    16                                           \n",
       "    17         4          3.0      0.8      0.7          middle_time = time.time()\n",
       "    18                                           \n",
       "    19         4          5.0      1.2      1.1          suma2 = suma_constante(cantidad)\n",
       "    20                                           \n",
       "    21         4          4.0      1.0      0.9          stop_time = time.time()\n",
       "    22                                           \n",
       "    23         4          4.0      1.0      0.9          set_time = middle_time - start_time\n",
       "    24         4          1.0      0.2      0.2          list_time = stop_time - middle_time\n",
       "    25                                                   \n",
       "    26         4        255.0     63.8     56.8          print(\"\\tTest en lineal para la cantidad de {}:\\t\\t{} segundos\".format(cantidad, set_time))\n",
       "    27         4        154.0     38.5     34.3          print(\"\\tTest en constantepara  para la cantidad de {}:\\t{} segundos\".format(cantidad, list_time))\n",
       "    28                                           \n",
       "    29         4          5.0      1.2      1.1          cantidad *= 10 # comienza en 1000000 luego *10... hasta 10000000000"
      ]
     },
     "metadata": {},
     "output_type": "display_data"
    }
   ],
   "source": [
    "%lprun -f ejemplo ejemplo(cantidad)"
   ]
  },
  {
   "cell_type": "markdown",
   "metadata": {},
   "source": [
    "El código tarda aproximandamente 0.003842  segundos en ejecutarse (el resultado puede variar en función de vuestra máquina). Del tiempo de ejecución, aprox. la mitad (42%) se utiliza para la función lineal) y un 55% para la suma constante) y el resto del tiempo básicamente para completar la función."
   ]
  },
  {
   "cell_type": "markdown",
   "metadata": {},
   "source": [
    "## Segunda parte"
   ]
  },
  {
   "cell_type": "markdown",
   "metadata": {},
   "source": [
    "[![video](https://res.cloudinary.com/marcomontalbano/image/upload/v1613126709/video_to_markdown/images/youtube--MaY6FpP0FEU-c05b58ac6eb4c4700831b2b3070cd403.jpg)](https://www.youtube.com/watch?v=MaY6FpP0FEU \"video\")  "
   ]
  },
  {
   "cell_type": "markdown",
   "metadata": {},
   "source": [
    "En este video hacemos una introducción a la notación asintótica, y la complejidad de los algoritmos, y resolvemos el reto que teníamos pendiente de definir dos funciones para sumar de 1 a n números enteros, mediante dos algoritmos con complejidad lineal y complejidad constante."
   ]
  },
  {
   "cell_type": "code",
   "execution_count": 6,
   "metadata": {},
   "outputs": [],
   "source": [
    "def suma_lineal(n):\n",
    "    suma=0\n",
    "    for i in range(1, n+1):\n",
    "        suma += i\n",
    "    return suma\n",
    "\n",
    "def suma_constante(n):\n",
    "    return (n/2) * (n+1)\n",
    "\n",
    "cantidad = 1000000\n",
    "\n",
    "def ejemplo2(cantidad):\n",
    "\n",
    "    for i in range(4): # incrementamos 4 veces\n",
    "\n",
    "        start_time = time.time()\n",
    "\n",
    "        suma1 = suma_lineal(cantidad)\n",
    "\n",
    "        middle_time = time.time()\n",
    "\n",
    "        suma2 = suma_constante(cantidad)\n",
    "\n",
    "        stop_time = time.time()\n",
    "\n",
    "        set_time = middle_time - start_time\n",
    "        list_time = stop_time - middle_time\n",
    "        \n",
    "        print(\"\\tTest en lineal para la cantidad de {}:\\t\\t{} segundos\".format(cantidad, set_time))\n",
    "        print(\"\\tTest en constantepara  para la cantidad de {}:\\t{} segundos\".format(cantidad, list_time))\n",
    "\n",
    "        cantidad *= 10 # comienza en 1000000 luego *10... hasta 10000000000\n",
    "        \n",
    "        # return set_time, list_time"
   ]
  },
  {
   "cell_type": "code",
   "execution_count": 7,
   "metadata": {},
   "outputs": [
    {
     "name": "stdout",
     "output_type": "stream",
     "text": [
      "\tTest en lineal para la cantidad de 1000000:\t\t0.09980249404907227 segundos\n",
      "\tTest en constantepara  para la cantidad de 1000000:\t8.821487426757812e-06 segundos\n",
      "\tTest en lineal para la cantidad de 10000000:\t\t0.5671617984771729 segundos\n",
      "\tTest en constantepara  para la cantidad de 10000000:\t3.337860107421875e-06 segundos\n",
      "\tTest en lineal para la cantidad de 100000000:\t\t7.468982219696045 segundos\n",
      "\tTest en constantepara  para la cantidad de 100000000:\t3.5762786865234375e-06 segundos\n",
      "\tTest en lineal para la cantidad de 1000000000:\t\t52.41947269439697 segundos\n",
      "\tTest en constantepara  para la cantidad de 1000000000:\t3.337860107421875e-06 segundos\n",
      "CPU times: user 60 s, sys: 102 ms, total: 1min\n",
      "Wall time: 1min\n"
     ]
    }
   ],
   "source": [
    "%time ejemplo2(cantidad)"
   ]
  },
  {
   "cell_type": "code",
   "execution_count": 8,
   "metadata": {},
   "outputs": [
    {
     "name": "stdout",
     "output_type": "stream",
     "text": [
      "\tTest en lineal para la cantidad de 1000000:\t\t0.06506776809692383 segundos\n",
      "\tTest en constantepara  para la cantidad de 1000000:\t3.814697265625e-06 segundos\n",
      "\tTest en lineal para la cantidad de 10000000:\t\t0.6292898654937744 segundos\n",
      "\tTest en constantepara  para la cantidad de 10000000:\t3.337860107421875e-06 segundos\n",
      "\tTest en lineal para la cantidad de 100000000:\t\t5.86493444442749 segundos\n",
      "\tTest en constantepara  para la cantidad de 100000000:\t1.1444091796875e-05 segundos\n",
      "\tTest en lineal para la cantidad de 1000000000:\t\t53.54281735420227 segundos\n",
      "\tTest en constantepara  para la cantidad de 1000000000:\t3.5762786865234375e-06 segundos\n"
     ]
    }
   ],
   "source": [
    "ejemplo2(cantidad)"
   ]
  },
  {
   "cell_type": "code",
   "execution_count": 9,
   "metadata": {},
   "outputs": [
    {
     "name": "stdout",
     "output_type": "stream",
     "text": [
      "\tTest en lineal para la cantidad de 1000000:\t\t0.27519702911376953 segundos\n",
      "\tTest en constantepara  para la cantidad de 1000000:\t7.152557373046875e-06 segundos\n",
      "\tTest en lineal para la cantidad de 10000000:\t\t2.9877612590789795 segundos\n",
      "\tTest en constantepara  para la cantidad de 10000000:\t7.152557373046875e-06 segundos\n",
      "\tTest en lineal para la cantidad de 100000000:\t\t3499.5601897239685 segundos\n",
      "\tTest en constantepara  para la cantidad de 100000000:\t7.3909759521484375e-06 segundos\n",
      "\tTest en lineal para la cantidad de 1000000000:\t\t259.0800063610077 segundos\n",
      "\tTest en constantepara  para la cantidad de 1000000000:\t7.152557373046875e-06 segundos\n"
     ]
    },
    {
     "data": {
      "text/plain": [
       "Timer unit: 1e-06 s\n",
       "\n",
       "Total time: 3761.9 s\n",
       "File: <ipython-input-6-fcff1bd24c5f>\n",
       "Function: ejemplo2 at line 12\n",
       "\n",
       "Line #      Hits         Time  Per Hit   % Time  Line Contents\n",
       "==============================================================\n",
       "    12                                           def ejemplo2(cantidad):\n",
       "    13                                           \n",
       "    14         5         16.0      3.2      0.0      for i in range(4): # incrementamos 4 veces\n",
       "    15                                           \n",
       "    16         4          8.0      2.0      0.0          start_time = time.time()\n",
       "    17                                           \n",
       "    18         4 3761903114.0 940475778.5    100.0          suma1 = suma_lineal(cantidad)\n",
       "    19                                           \n",
       "    20         4         27.0      6.8      0.0          middle_time = time.time()\n",
       "    21                                           \n",
       "    22         4         18.0      4.5      0.0          suma2 = suma_constante(cantidad)\n",
       "    23                                           \n",
       "    24         4          3.0      0.8      0.0          stop_time = time.time()\n",
       "    25                                           \n",
       "    26         4          3.0      0.8      0.0          set_time = middle_time - start_time\n",
       "    27         4          2.0      0.5      0.0          list_time = stop_time - middle_time\n",
       "    28                                                   \n",
       "    29         4        865.0    216.2      0.0          print(\"\\tTest en lineal para la cantidad de {}:\\t\\t{} segundos\".format(cantidad, set_time))\n",
       "    30         4        263.0     65.8      0.0          print(\"\\tTest en constantepara  para la cantidad de {}:\\t{} segundos\".format(cantidad, list_time))\n",
       "    31                                           \n",
       "    32         4          7.0      1.8      0.0          cantidad *= 10 # comienza en 1000000 luego *10... hasta 10000000000"
      ]
     },
     "metadata": {},
     "output_type": "display_data"
    }
   ],
   "source": [
    "%lprun -f ejemplo2 ejemplo2(cantidad)\n",
    "# Podemos utilizar lprun para ver cuales son las operaciones más costosas."
   ]
  },
  {
   "cell_type": "markdown",
   "metadata": {},
   "source": [
    "# Representación gŕafica según su complejidad."
   ]
  },
  {
   "cell_type": "code",
   "execution_count": 10,
   "metadata": {},
   "outputs": [],
   "source": [
    "import matplotlib.pyplot as plt\n",
    "import matplotlib.colors as mcolors"
   ]
  },
  {
   "cell_type": "code",
   "execution_count": 11,
   "metadata": {},
   "outputs": [
    {
     "data": {
      "image/png": "[encoded data removed]",
      "text/plain": [
       "<Figure size 432x288 with 1 Axes>"
      ]
     },
     "metadata": {
      "needs_background": "light"
     },
     "output_type": "display_data"
    }
   ],
   "source": [
    "def plot_funs(xs):\n",
    "    \"\"\"\n",
    "    Plot a set of predefined functions for the x values in 'xs'.\n",
    "    \"\"\"\n",
    "    ys0 = [1 for x in xs]\n",
    "    ys1 = [x for x in xs]\n",
    "    ys1_b = [x + 25 for x in xs]\n",
    "    ys2 = [x**2 for x in xs]\n",
    "    ys2_b = [x**2 + x for x in xs]\n",
    "    ys3 = [x**3 for x in xs]\n",
    "    ys3_b = [x**3 + x**2 for x in xs]\n",
    "\n",
    "    fig = plt.figure()\n",
    "    plt.plot(xs, ys0, '-', color='tab:brown')\n",
    "    plt.plot(xs, ys1, '-', color='tab:blue')\n",
    "    plt.plot(xs, ys1_b, ':', color='tab:blue')\n",
    "    plt.plot(xs, ys2, '-', color='tab:orange')\n",
    "    plt.plot(xs, ys2_b, ':', color='tab:orange')\n",
    "    plt.plot(xs, ys3, '-', color='tab:green')\n",
    "    plt.plot(xs, ys3_b, ':', color='tab:green')\n",
    "\n",
    "    plt.legend([\"$1$\", \"$x$\", \"$x+25$\", \"$x^2$\", \"$x^2+x$\", \"$x^3$\",\n",
    "                \"$x^3+x^2$\"])\n",
    "\n",
    "    plt.xlabel('$n$')\n",
    "    plt.ylabel('$f(n)$')\n",
    "    plt.title('Function growth')\n",
    "    plt.show()\n",
    "\n",
    "\n",
    "plot_funs(range(10))"
   ]
  },
  {
   "cell_type": "markdown",
   "metadata": {},
   "source": [
    "Las líneas de un mismo color representan funciones que tienen el mismo grado. Así, la línea marrón que casi no se aprecia muestra una función constante (𝑓(𝑛)=1), las líneas azules muestran funciones lineales (𝑥 y 𝑥+25), las líneas naranjas funciones cuadráticas (𝑥2 y 𝑥2+𝑥), y las líneas verdes funciones cúbicas (𝑥3 y 𝑥3+𝑥2). Para cada color, la línea continua (sólida) representa la función que contiene solo el término de mayor grado, y la línea de puntos es una función que tiene también otros términos de menor grado. Como se puede apreciar, el crecimiento de las funciones con el mismo grado es similar, sobre todo cuando crece el valor de 𝑛. Fijaos con la representación de las mismas funciones si aumentamos el valor de 𝑛 de 10 (gráfica anterior) a 100 (gráfica de la celda siguiente):"
   ]
  },
  {
   "cell_type": "code",
   "execution_count": 12,
   "metadata": {},
   "outputs": [
    {
     "data": {
      "image/png": "[encoded data removed]",
      "text/plain": [
       "<Figure size 432x288 with 1 Axes>"
      ]
     },
     "metadata": {
      "needs_background": "light"
     },
     "output_type": "display_data"
    }
   ],
   "source": [
    "plot_funs(range(100))"
   ]
  }
 ],
 "metadata": {
  "kernelspec": {
   "display_name": "Python 3",
   "language": "python",
   "name": "python3"
  },
  "language_info": {
   "codemirror_mode": {
    "name": "ipython",
    "version": 3
   },
   "file_extension": ".py",
   "mimetype": "text/x-python",
   "name": "python",
   "nbconvert_exporter": "python",
   "pygments_lexer": "ipython3",
   "version": "3.7.6"
  }
 },
 "nbformat": 4,
 "nbformat_minor": 4
}
