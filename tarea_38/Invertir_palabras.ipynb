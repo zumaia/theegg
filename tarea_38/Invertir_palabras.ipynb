{
 "cells": [
  {
   "cell_type": "markdown",
   "metadata": {},
   "source": [
    "# Invertir palabras"
   ]
  },
  {
   "cell_type": "markdown",
   "metadata": {},
   "source": [
    "\n",
    "\"\"\"\n",
    "Dada una serie de palabras separadas por espacios, escribir la frase formada por las mismas palabras en orden inverso.\n",
    "Cada palabra estará formada exclusivamente por letras, y existirá exactamente un espacio entre cada pareja de palabras. La salida debe ser \"Case #\" seguido del número de caso, de un símbolo de \"dos puntos\", de un espacio en blanco y de la frase invertida.\n",
    "\"\"\""
   ]
  },
  {
   "cell_type": "markdown",
   "metadata": {},
   "source": [
    "Ejemplo:\n",
    "    \n",
    "    El primer dato de entrada será la cantidad de valores que se van a analizar.\n",
    "\n",
    "\n",
    "\n",
    "Ejemplo de entrada\n",
    "\n",
    "3\n",
    "\n",
    "this is a test\n",
    "\n",
    "foobar\n",
    "\n",
    "all your base\n",
    "\n",
    "\n",
    "\n",
    "\n",
    "Salida correspondiente\n",
    "\n",
    "Case #1: test a is this\n",
    "\n",
    "Case #2: foobar\n",
    "\n",
    "Case #3: base your all\n"
   ]
  },
  {
   "cell_type": "markdown",
   "metadata": {},
   "source": [
    "========\n",
    "## Cargo el texto guardado en un txt"
   ]
  },
  {
   "cell_type": "code",
   "execution_count": 1,
   "metadata": {},
   "outputs": [
    {
     "data": {
      "text/plain": [
       "['4\\n',\n",
       " 'hoy es lunes\\n',\n",
       " 'Tengo una visita con el médico\\n',\n",
       " '#singular\\n',\n",
       " 'Estamos de carnaval']"
      ]
     },
     "execution_count": 1,
     "metadata": {},
     "output_type": "execute_result"
    }
   ],
   "source": [
    "lista_texto=[]\n",
    "with open(\"texto_entrada.txt\", \"r\") as texto:\n",
    "\tlista_texto = texto.readlines()\n",
    "    \n",
    "lista_texto"
   ]
  },
  {
   "cell_type": "code",
   "execution_count": 2,
   "metadata": {},
   "outputs": [
    {
     "data": {
      "text/plain": [
       "4"
      ]
     },
     "execution_count": 2,
     "metadata": {},
     "output_type": "execute_result"
    }
   ],
   "source": [
    "# Miro el numero de imputs\n",
    "rango = int(lista_texto[0])\n",
    "rango"
   ]
  },
  {
   "cell_type": "code",
   "execution_count": 3,
   "metadata": {},
   "outputs": [],
   "source": [
    "# Selecciono los valores necesarios para el ejercicio\n",
    "lista = lista_texto[1:]"
   ]
  },
  {
   "cell_type": "code",
   "execution_count": 4,
   "metadata": {},
   "outputs": [
    {
     "data": {
      "text/plain": [
       "['hoy es lunes\\n',\n",
       " 'Tengo una visita con el médico\\n',\n",
       " '#singular\\n',\n",
       " 'Estamos de carnaval']"
      ]
     },
     "execution_count": 4,
     "metadata": {},
     "output_type": "execute_result"
    }
   ],
   "source": [
    "# Los listo\n",
    "lista"
   ]
  },
  {
   "cell_type": "code",
   "execution_count": 5,
   "metadata": {},
   "outputs": [
    {
     "name": "stdout",
     "output_type": "stream",
     "text": [
      "Case #1: lunes es hoy\n",
      "Case #2: médico el con visita una Tengo\n",
      "Case #3: #singular\n",
      "Case #4: carnaval de Estamos\n"
     ]
    }
   ],
   "source": [
    "for i, line in enumerate(lista_texto[1:], 1):\n",
    "    ## por cada elemento de la lista divido la cadena en el espacio\n",
    "    words = line.split()\n",
    "    ## invertir las palabras utilizando la función reversed()\n",
    "    words = list(reversed(words))\n",
    "    ## junto las palabras y las imprimo\n",
    "    line=\" \".join(words)\n",
    "    print(\"Case #{}: {}\".format(i,line))"
   ]
  },
  {
   "cell_type": "code",
   "execution_count": 6,
   "metadata": {},
   "outputs": [
    {
     "name": "stdout",
     "output_type": "stream",
     "text": [
      "Case #1: lunes es hoy\n",
      "Case #2: médico el con visita una Tengo\n",
      "Case #3: #singular\n",
      "Case #4: carnaval de Estamos\n"
     ]
    }
   ],
   "source": [
    "# De otra forma\n",
    "for i,line in zip(range(1,rango+1),lista):\n",
    "   ## dividir la cadena en el espacio\n",
    "    words = line.split()\n",
    "    ## invertir las palabras utilizando la función reversed()\n",
    "    words = list(reversed(words))\n",
    "    ## junto las palabras y las imprimo\n",
    "    line=\" \".join(words)\n",
    "    print(\"Case #{}: {}\".format(i,line))"
   ]
  },
  {
   "cell_type": "code",
   "execution_count": 7,
   "metadata": {},
   "outputs": [
    {
     "name": "stdout",
     "output_type": "stream",
     "text": [
      "Caso # 1: lunes es hoy\n",
      "Caso # 2: médico el con visita una Tengo\n",
      "Caso # 3: #singular\n",
      "Caso # 4: carnaval de Estamos\n"
     ]
    }
   ],
   "source": [
    "# de otra forma\n",
    "count = 0\n",
    "for line in lista_texto[1:]:\n",
    "    count += 1\n",
    "    ## por cada elemento de la lista divido la cadena en el espacio\n",
    "    words = line.split()\n",
    "    ## invertir las palabras utilizando la función reversed()\n",
    "    words = list(reversed(words))\n",
    "    ## junto las palabras y las imprimo\n",
    "    line=\" \".join(words)\n",
    "    print(f'Caso # {count}: {line}')    "
   ]
  }
 ],
 "metadata": {
  "kernelspec": {
   "display_name": "Python 3",
   "language": "python",
   "name": "python3"
  },
  "language_info": {
   "codemirror_mode": {
    "name": "ipython",
    "version": 3
   },
   "file_extension": ".py",
   "mimetype": "text/x-python",
   "name": "python",
   "nbconvert_exporter": "python",
   "pygments_lexer": "ipython3",
   "version": "3.7.6"
  }
 },
 "nbformat": 4,
 "nbformat_minor": 4
}
