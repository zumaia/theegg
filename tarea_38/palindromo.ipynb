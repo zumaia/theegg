{
 "cells": [
  {
   "cell_type": "code",
   "execution_count": 1,
   "metadata": {},
   "outputs": [],
   "source": [
    "import random"
   ]
  },
  {
   "cell_type": "code",
   "execution_count": 2,
   "metadata": {},
   "outputs": [
    {
     "data": {
      "text/plain": [
       "'\\nUn entero se dice que es un palíndromo si es igual al número que se obtiene al invertir el orden de sus cifras. \\nPor ejemplo, 79197 y 324423 son palíndromos. En esta tarea se le dará un entero N, 1 <= N <= 1.000.000. \\nUsted debe encontrar el menor entero M tal que M <= N que es primo y M es un palíndromo N.\\n\\nPor ejemplo, si N es 31, entonces la respuesta es 101.\\n\\nFormato de entrada:\\nUn solo entero N, (1 <= N <= 1.000.000), en una sola línea.\\n\\nFormato de salida:\\nSu salida debe consistir en un solo número entero, el más pequeño palíndromo primo mayor que o igual a N.\\n'"
      ]
     },
     "execution_count": 2,
     "metadata": {},
     "output_type": "execute_result"
    }
   ],
   "source": [
    "'''\n",
    "Un entero se dice que es un palíndromo si es igual al número que se obtiene al invertir el orden de sus cifras. \n",
    "Por ejemplo, 79197 y 324423 son palíndromos. En esta tarea se le dará un entero N, 1 <= N <= 1.000.000. \n",
    "Usted debe encontrar el menor entero M tal que M <= N que es primo y M es un palíndromo N.\n",
    "\n",
    "Por ejemplo, si N es 31, entonces la respuesta es 101.\n",
    "\n",
    "Formato de entrada:\n",
    "Un solo entero N, (1 <= N <= 1.000.000), en una sola línea.\n",
    "\n",
    "Formato de salida:\n",
    "Su salida debe consistir en un solo número entero, el más pequeño palíndromo primo mayor que o igual a N.\n",
    "'''"
   ]
  },
  {
   "cell_type": "code",
   "execution_count": 3,
   "metadata": {},
   "outputs": [
    {
     "name": "stdout",
     "output_type": "stream",
     "text": [
      "El numero entero aleatorio entre 1 y 1.000.000 es: 293266\n"
     ]
    }
   ],
   "source": [
    "numero = random.randint(1, 1000000)\n",
    "# Imprimo el número aleatorio\n",
    "print(\"El numero entero aleatorio entre 1 y 1.000.000 es: {}\".format(numero))"
   ]
  },
  {
   "cell_type": "code",
   "execution_count": 4,
   "metadata": {},
   "outputs": [],
   "source": [
    "# Palindrome test\n",
    "def palindrome(num):\n",
    "    \"\"\"\n",
    "    Función que testea de palindronomo\n",
    "    \"\"\"\n",
    "    return str(num) == str(num)[::-1]\n",
    "\n",
    "\n",
    "# Prime Test\n",
    "def is_prime(n):\n",
    "    \"\"\"\n",
    "    Función que testea si el número es primo\n",
    "    \"\"\"\n",
    "    if n == 2 or n == 3:\n",
    "        return True\n",
    "    if n < 2 or n % 2 == 0:\n",
    "        return False\n",
    "    if n < 9:\n",
    "        return True\n",
    "    if n % 3 == 0:\n",
    "        return False\n",
    "    r = int(n ** 0.5)\n",
    "    f = 5\n",
    "    while f <= r:\n",
    "        if n % f == 0:\n",
    "            return False\n",
    "        if n % (f + 2) == 0:\n",
    "            return False\n",
    "        f += 6\n",
    "    return True"
   ]
  },
  {
   "cell_type": "code",
   "execution_count": 5,
   "metadata": {},
   "outputs": [],
   "source": [
    "# Indicamos los rangos\n",
    "N = numero  # Número mínimo\n",
    "M = 1000000  # Número máximo\n",
    "\n",
    "\n",
    "def ejercicio():\n",
    "    \"\"\"\n",
    "    función para obtener el primer número palindromo primo desde el número aleatorio obtenido y 1.000.000\n",
    "    \"\"\"\n",
    "    num_palind = [0]\n",
    "    for x in range(N, M):\n",
    "\n",
    "        # Check for palindrome and prime number\n",
    "        if palindrome(x) and is_prime(x):\n",
    "\n",
    "            # Omitting 2,3,5,7 as per request\n",
    "            if (\n",
    "                abs(x) % 2 != 0\n",
    "                and abs(x) % 3 != 0\n",
    "                and abs(x) % 5 != 0\n",
    "                and abs(x) % 7 != 0\n",
    "            ):\n",
    "                num_palind.append(x)\n",
    "\n",
    "    if not num_palind[0]:\n",
    "        print(\"No hay número palindromo mayor a {}\".format(N))\n",
    "    else:\n",
    "        print(\n",
    "            \"El más pequeño palíndromo primo mayor que o igual a {}: {}\".format(\n",
    "                N, num_palind[0]\n",
    "            )\n",
    "        )"
   ]
  },
  {
   "cell_type": "code",
   "execution_count": 6,
   "metadata": {},
   "outputs": [
    {
     "name": "stdout",
     "output_type": "stream",
     "text": [
      "No hay número palindromo mayor a 293266\n"
     ]
    }
   ],
   "source": [
    "ejercicio()"
   ]
  }
 ],
 "metadata": {
  "kernelspec": {
   "display_name": "Python 3",
   "language": "python",
   "name": "python3"
  },
  "language_info": {
   "codemirror_mode": {
    "name": "ipython",
    "version": 3
   },
   "file_extension": ".py",
   "mimetype": "text/x-python",
   "name": "python",
   "nbconvert_exporter": "python",
   "pygments_lexer": "ipython3",
   "version": "3.7.6"
  }
 },
 "nbformat": 4,
 "nbformat_minor": 4
}
